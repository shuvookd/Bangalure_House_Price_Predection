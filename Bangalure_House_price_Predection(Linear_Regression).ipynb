{
  "cells": [
    {
      "cell_type": "markdown",
      "metadata": {
        "id": "view-in-github",
        "colab_type": "text"
      },
      "source": [
        "<a href=\"https://colab.research.google.com/github/shuvookd/Bangalure_House_Price_Predection/blob/main/Bangalure_House_price_Predection(Linear_Regression).ipynb\" target=\"_parent\"><img src=\"https://colab.research.google.com/assets/colab-badge.svg\" alt=\"Open In Colab\"/></a>"
      ]
    },
    {
      "cell_type": "markdown",
      "metadata": {
        "id": "XtwYwQEOFEju"
      },
      "source": [
        "### Load Library"
      ]
    },
    {
      "cell_type": "code",
      "execution_count": 58,
      "metadata": {
        "id": "D-1CU6xeFKzs"
      },
      "outputs": [],
      "source": [
        "import pandas as pd\n",
        "import numpy as np\n",
        "from sklearn.metrics import mean_absolute_error\n",
        "from sklearn.metrics import mean_squared_error"
      ]
    },
    {
      "cell_type": "markdown",
      "metadata": {
        "id": "KzzDw9Za4GMy"
      },
      "source": [
        "### Read Dataset"
      ]
    },
    {
      "cell_type": "code",
      "execution_count": 59,
      "metadata": {
        "colab": {
          "base_uri": "https://localhost:8080/",
          "height": 317
        },
        "id": "zg_q6A_eFR5K",
        "outputId": "81b75753-b55a-4246-8dc1-c8e5f9cf9cd4"
      },
      "outputs": [
        {
          "output_type": "execute_result",
          "data": {
            "text/plain": [
              "   bath  balcony  price  total_sqft_int  bhk  price_per_sqft  \\\n",
              "0   3.0      2.0  150.0          1672.0    3     8971.291866   \n",
              "1   3.0      3.0  149.0          1750.0    3     8514.285714   \n",
              "2   3.0      2.0  150.0          1750.0    3     8571.428571   \n",
              "3   2.0      2.0   40.0          1250.0    2     3200.000000   \n",
              "4   2.0      2.0   83.0          1200.0    2     6916.666667   \n",
              "\n",
              "   area_typeSuper built-up  Area  area_typeBuilt-up  Area  \\\n",
              "0                              1                        0   \n",
              "1                              0                        1   \n",
              "2                              1                        0   \n",
              "3                              1                        0   \n",
              "4                              0                        0   \n",
              "\n",
              "   area_typePlot  Area  availability_Ready To Move  ...  \\\n",
              "0                    0                           1  ...   \n",
              "1                    0                           1  ...   \n",
              "2                    0                           1  ...   \n",
              "3                    0                           1  ...   \n",
              "4                    1                           1  ...   \n",
              "\n",
              "   location_Kalena Agrahara  location_Horamavu Agara  location_Vidyaranyapura  \\\n",
              "0                         0                        0                        0   \n",
              "1                         0                        0                        0   \n",
              "2                         0                        0                        0   \n",
              "3                         0                        0                        0   \n",
              "4                         0                        0                        0   \n",
              "\n",
              "   location_BTM 2nd Stage  location_Hebbal Kempapura  location_Hosur Road  \\\n",
              "0                       0                          0                    0   \n",
              "1                       0                          0                    0   \n",
              "2                       0                          0                    0   \n",
              "3                       0                          0                    0   \n",
              "4                       0                          0                    0   \n",
              "\n",
              "   location_Horamavu Banaswadi  location_Domlur  location_Mahadevpura  \\\n",
              "0                            0                0                     0   \n",
              "1                            0                0                     0   \n",
              "2                            0                0                     0   \n",
              "3                            0                0                     0   \n",
              "4                            0                0                     0   \n",
              "\n",
              "   location_Tumkur Road  \n",
              "0                     0  \n",
              "1                     0  \n",
              "2                     0  \n",
              "3                     0  \n",
              "4                     0  \n",
              "\n",
              "[5 rows x 108 columns]"
            ],
            "text/html": [
              "\n",
              "  <div id=\"df-ffb164ce-492a-42d5-ab9e-7bd8f0aeda3f\">\n",
              "    <div class=\"colab-df-container\">\n",
              "      <div>\n",
              "<style scoped>\n",
              "    .dataframe tbody tr th:only-of-type {\n",
              "        vertical-align: middle;\n",
              "    }\n",
              "\n",
              "    .dataframe tbody tr th {\n",
              "        vertical-align: top;\n",
              "    }\n",
              "\n",
              "    .dataframe thead th {\n",
              "        text-align: right;\n",
              "    }\n",
              "</style>\n",
              "<table border=\"1\" class=\"dataframe\">\n",
              "  <thead>\n",
              "    <tr style=\"text-align: right;\">\n",
              "      <th></th>\n",
              "      <th>bath</th>\n",
              "      <th>balcony</th>\n",
              "      <th>price</th>\n",
              "      <th>total_sqft_int</th>\n",
              "      <th>bhk</th>\n",
              "      <th>price_per_sqft</th>\n",
              "      <th>area_typeSuper built-up  Area</th>\n",
              "      <th>area_typeBuilt-up  Area</th>\n",
              "      <th>area_typePlot  Area</th>\n",
              "      <th>availability_Ready To Move</th>\n",
              "      <th>...</th>\n",
              "      <th>location_Kalena Agrahara</th>\n",
              "      <th>location_Horamavu Agara</th>\n",
              "      <th>location_Vidyaranyapura</th>\n",
              "      <th>location_BTM 2nd Stage</th>\n",
              "      <th>location_Hebbal Kempapura</th>\n",
              "      <th>location_Hosur Road</th>\n",
              "      <th>location_Horamavu Banaswadi</th>\n",
              "      <th>location_Domlur</th>\n",
              "      <th>location_Mahadevpura</th>\n",
              "      <th>location_Tumkur Road</th>\n",
              "    </tr>\n",
              "  </thead>\n",
              "  <tbody>\n",
              "    <tr>\n",
              "      <th>0</th>\n",
              "      <td>3.0</td>\n",
              "      <td>2.0</td>\n",
              "      <td>150.0</td>\n",
              "      <td>1672.0</td>\n",
              "      <td>3</td>\n",
              "      <td>8971.291866</td>\n",
              "      <td>1</td>\n",
              "      <td>0</td>\n",
              "      <td>0</td>\n",
              "      <td>1</td>\n",
              "      <td>...</td>\n",
              "      <td>0</td>\n",
              "      <td>0</td>\n",
              "      <td>0</td>\n",
              "      <td>0</td>\n",
              "      <td>0</td>\n",
              "      <td>0</td>\n",
              "      <td>0</td>\n",
              "      <td>0</td>\n",
              "      <td>0</td>\n",
              "      <td>0</td>\n",
              "    </tr>\n",
              "    <tr>\n",
              "      <th>1</th>\n",
              "      <td>3.0</td>\n",
              "      <td>3.0</td>\n",
              "      <td>149.0</td>\n",
              "      <td>1750.0</td>\n",
              "      <td>3</td>\n",
              "      <td>8514.285714</td>\n",
              "      <td>0</td>\n",
              "      <td>1</td>\n",
              "      <td>0</td>\n",
              "      <td>1</td>\n",
              "      <td>...</td>\n",
              "      <td>0</td>\n",
              "      <td>0</td>\n",
              "      <td>0</td>\n",
              "      <td>0</td>\n",
              "      <td>0</td>\n",
              "      <td>0</td>\n",
              "      <td>0</td>\n",
              "      <td>0</td>\n",
              "      <td>0</td>\n",
              "      <td>0</td>\n",
              "    </tr>\n",
              "    <tr>\n",
              "      <th>2</th>\n",
              "      <td>3.0</td>\n",
              "      <td>2.0</td>\n",
              "      <td>150.0</td>\n",
              "      <td>1750.0</td>\n",
              "      <td>3</td>\n",
              "      <td>8571.428571</td>\n",
              "      <td>1</td>\n",
              "      <td>0</td>\n",
              "      <td>0</td>\n",
              "      <td>1</td>\n",
              "      <td>...</td>\n",
              "      <td>0</td>\n",
              "      <td>0</td>\n",
              "      <td>0</td>\n",
              "      <td>0</td>\n",
              "      <td>0</td>\n",
              "      <td>0</td>\n",
              "      <td>0</td>\n",
              "      <td>0</td>\n",
              "      <td>0</td>\n",
              "      <td>0</td>\n",
              "    </tr>\n",
              "    <tr>\n",
              "      <th>3</th>\n",
              "      <td>2.0</td>\n",
              "      <td>2.0</td>\n",
              "      <td>40.0</td>\n",
              "      <td>1250.0</td>\n",
              "      <td>2</td>\n",
              "      <td>3200.000000</td>\n",
              "      <td>1</td>\n",
              "      <td>0</td>\n",
              "      <td>0</td>\n",
              "      <td>1</td>\n",
              "      <td>...</td>\n",
              "      <td>0</td>\n",
              "      <td>0</td>\n",
              "      <td>0</td>\n",
              "      <td>0</td>\n",
              "      <td>0</td>\n",
              "      <td>0</td>\n",
              "      <td>0</td>\n",
              "      <td>0</td>\n",
              "      <td>0</td>\n",
              "      <td>0</td>\n",
              "    </tr>\n",
              "    <tr>\n",
              "      <th>4</th>\n",
              "      <td>2.0</td>\n",
              "      <td>2.0</td>\n",
              "      <td>83.0</td>\n",
              "      <td>1200.0</td>\n",
              "      <td>2</td>\n",
              "      <td>6916.666667</td>\n",
              "      <td>0</td>\n",
              "      <td>0</td>\n",
              "      <td>1</td>\n",
              "      <td>1</td>\n",
              "      <td>...</td>\n",
              "      <td>0</td>\n",
              "      <td>0</td>\n",
              "      <td>0</td>\n",
              "      <td>0</td>\n",
              "      <td>0</td>\n",
              "      <td>0</td>\n",
              "      <td>0</td>\n",
              "      <td>0</td>\n",
              "      <td>0</td>\n",
              "      <td>0</td>\n",
              "    </tr>\n",
              "  </tbody>\n",
              "</table>\n",
              "<p>5 rows × 108 columns</p>\n",
              "</div>\n",
              "      <button class=\"colab-df-convert\" onclick=\"convertToInteractive('df-ffb164ce-492a-42d5-ab9e-7bd8f0aeda3f')\"\n",
              "              title=\"Convert this dataframe to an interactive table.\"\n",
              "              style=\"display:none;\">\n",
              "        \n",
              "  <svg xmlns=\"http://www.w3.org/2000/svg\" height=\"24px\"viewBox=\"0 0 24 24\"\n",
              "       width=\"24px\">\n",
              "    <path d=\"M0 0h24v24H0V0z\" fill=\"none\"/>\n",
              "    <path d=\"M18.56 5.44l.94 2.06.94-2.06 2.06-.94-2.06-.94-.94-2.06-.94 2.06-2.06.94zm-11 1L8.5 8.5l.94-2.06 2.06-.94-2.06-.94L8.5 2.5l-.94 2.06-2.06.94zm10 10l.94 2.06.94-2.06 2.06-.94-2.06-.94-.94-2.06-.94 2.06-2.06.94z\"/><path d=\"M17.41 7.96l-1.37-1.37c-.4-.4-.92-.59-1.43-.59-.52 0-1.04.2-1.43.59L10.3 9.45l-7.72 7.72c-.78.78-.78 2.05 0 2.83L4 21.41c.39.39.9.59 1.41.59.51 0 1.02-.2 1.41-.59l7.78-7.78 2.81-2.81c.8-.78.8-2.07 0-2.86zM5.41 20L4 18.59l7.72-7.72 1.47 1.35L5.41 20z\"/>\n",
              "  </svg>\n",
              "      </button>\n",
              "      \n",
              "  <style>\n",
              "    .colab-df-container {\n",
              "      display:flex;\n",
              "      flex-wrap:wrap;\n",
              "      gap: 12px;\n",
              "    }\n",
              "\n",
              "    .colab-df-convert {\n",
              "      background-color: #E8F0FE;\n",
              "      border: none;\n",
              "      border-radius: 50%;\n",
              "      cursor: pointer;\n",
              "      display: none;\n",
              "      fill: #1967D2;\n",
              "      height: 32px;\n",
              "      padding: 0 0 0 0;\n",
              "      width: 32px;\n",
              "    }\n",
              "\n",
              "    .colab-df-convert:hover {\n",
              "      background-color: #E2EBFA;\n",
              "      box-shadow: 0px 1px 2px rgba(60, 64, 67, 0.3), 0px 1px 3px 1px rgba(60, 64, 67, 0.15);\n",
              "      fill: #174EA6;\n",
              "    }\n",
              "\n",
              "    [theme=dark] .colab-df-convert {\n",
              "      background-color: #3B4455;\n",
              "      fill: #D2E3FC;\n",
              "    }\n",
              "\n",
              "    [theme=dark] .colab-df-convert:hover {\n",
              "      background-color: #434B5C;\n",
              "      box-shadow: 0px 1px 3px 1px rgba(0, 0, 0, 0.15);\n",
              "      filter: drop-shadow(0px 1px 2px rgba(0, 0, 0, 0.3));\n",
              "      fill: #FFFFFF;\n",
              "    }\n",
              "  </style>\n",
              "\n",
              "      <script>\n",
              "        const buttonEl =\n",
              "          document.querySelector('#df-ffb164ce-492a-42d5-ab9e-7bd8f0aeda3f button.colab-df-convert');\n",
              "        buttonEl.style.display =\n",
              "          google.colab.kernel.accessAllowed ? 'block' : 'none';\n",
              "\n",
              "        async function convertToInteractive(key) {\n",
              "          const element = document.querySelector('#df-ffb164ce-492a-42d5-ab9e-7bd8f0aeda3f');\n",
              "          const dataTable =\n",
              "            await google.colab.kernel.invokeFunction('convertToInteractive',\n",
              "                                                     [key], {});\n",
              "          if (!dataTable) return;\n",
              "\n",
              "          const docLinkHtml = 'Like what you see? Visit the ' +\n",
              "            '<a target=\"_blank\" href=https://colab.research.google.com/notebooks/data_table.ipynb>data table notebook</a>'\n",
              "            + ' to learn more about interactive tables.';\n",
              "          element.innerHTML = '';\n",
              "          dataTable['output_type'] = 'display_data';\n",
              "          await google.colab.output.renderOutput(dataTable, element);\n",
              "          const docLink = document.createElement('div');\n",
              "          docLink.innerHTML = docLinkHtml;\n",
              "          element.appendChild(docLink);\n",
              "        }\n",
              "      </script>\n",
              "    </div>\n",
              "  </div>\n",
              "  "
            ]
          },
          "metadata": {},
          "execution_count": 59
        }
      ],
      "source": [
        "df = pd.read_csv(\"/content/bangalore house price prediction OHE-data.csv\")\n",
        "df.head()"
      ]
    },
    {
      "cell_type": "markdown",
      "metadata": {
        "id": "XzY-FPi84fgz"
      },
      "source": [
        "### Split Data"
      ]
    },
    {
      "cell_type": "code",
      "execution_count": 60,
      "metadata": {
        "colab": {
          "base_uri": "https://localhost:8080/"
        },
        "id": "f1kMtE2YGV0_",
        "outputId": "d9aa8748-105d-4f84-a7d2-dec43983d937"
      },
      "outputs": [
        {
          "output_type": "stream",
          "name": "stdout",
          "text": [
            "Shape of X =  (7120, 107)\n",
            "Shape of y =  (7120,)\n"
          ]
        }
      ],
      "source": [
        "X = df.drop('price', axis=1)\n",
        "y = df['price']\n",
        "\n",
        "print('Shape of X = ', X.shape)\n",
        "print('Shape of y = ', y.shape)"
      ]
    },
    {
      "cell_type": "code",
      "execution_count": 61,
      "metadata": {
        "colab": {
          "base_uri": "https://localhost:8080/"
        },
        "id": "mm9_kbHuGgMH",
        "outputId": "be0e8ce6-fcd6-447b-eb09-1b434af731e7"
      },
      "outputs": [
        {
          "output_type": "stream",
          "name": "stdout",
          "text": [
            "Shape of X_train =  (5696, 107)\n",
            "Shape of y_train =  (5696,)\n",
            "Shape of X_test =  (1424, 107)\n",
            "Shape of y_test =  (1424,)\n"
          ]
        }
      ],
      "source": [
        "from sklearn.model_selection import train_test_split\n",
        "X_train, X_test, y_train, y_test = train_test_split(X, y, test_size=0.2, random_state=51)\n",
        "\n",
        "print('Shape of X_train = ', X_train.shape)\n",
        "print('Shape of y_train = ', y_train.shape)\n",
        "print('Shape of X_test = ', X_test.shape)\n",
        "print('Shape of y_test = ', y_test.shape)"
      ]
    },
    {
      "cell_type": "markdown",
      "metadata": {
        "id": "LElvR3Uj4yVV"
      },
      "source": [
        "### Feature Scaling"
      ]
    },
    {
      "cell_type": "code",
      "execution_count": 62,
      "metadata": {
        "id": "FSihHmNaGjMO"
      },
      "outputs": [],
      "source": [
        "from sklearn.preprocessing import StandardScaler\n",
        "sc = StandardScaler()\n",
        "sc.fit(X_train)\n",
        "X_train = sc.transform(X_train)\n",
        "X_test = sc.transform(X_test)"
      ]
    },
    {
      "cell_type": "markdown",
      "metadata": {
        "id": "JPhMj4M15GAL"
      },
      "source": [
        "### Linear Regression"
      ]
    },
    {
      "cell_type": "code",
      "execution_count": 63,
      "metadata": {
        "colab": {
          "base_uri": "https://localhost:8080/"
        },
        "id": "5S7p5h1M5Jj2",
        "outputId": "1055735c-440a-4038-a2ba-edf3e93e1ec5"
      },
      "outputs": [
        {
          "output_type": "execute_result",
          "data": {
            "text/plain": [
              "LinearRegression()"
            ]
          },
          "metadata": {},
          "execution_count": 63
        }
      ],
      "source": [
        "from sklearn.linear_model import LinearRegression\n",
        "lr = LinearRegression()\n",
        "lr.fit(X_train, y_train)"
      ]
    },
    {
      "cell_type": "code",
      "execution_count": 64,
      "metadata": {
        "colab": {
          "base_uri": "https://localhost:8080/"
        },
        "id": "rAeEMdnH5Tci",
        "outputId": "487eae0e-7c22-41be-afd8-787f72caba3a"
      },
      "outputs": [
        {
          "output_type": "execute_result",
          "data": {
            "text/plain": [
              "array([-5.70206143e+00, -1.25679916e+00,  8.27341833e+01, -1.44906911e+01,\n",
              "        5.75662723e+01,  1.88468905e-01, -1.72593897e+00, -4.51058311e+00,\n",
              "       -2.22589244e+00, -4.28978455e+00, -2.44590976e+00,  5.40246226e-01,\n",
              "       -1.03633400e+00,  1.43064873e+00, -6.25029424e-02, -1.51548783e+00,\n",
              "       -2.14422789e-01,  2.16244155e+00, -1.48710228e+00,  1.95250816e+00,\n",
              "       -3.10761125e+00, -1.28138668e+00, -1.01367155e+00,  1.37968545e-02,\n",
              "        1.10383858e+00,  1.26497611e+00, -3.52405517e+00, -1.21398741e+00,\n",
              "       -5.04622019e-01,  1.46299181e+00, -5.50064233e-01, -8.46468162e-02,\n",
              "        6.84882188e-01, -1.39849820e+00, -1.94761710e-02, -1.57716300e+00,\n",
              "        4.20886278e-01,  8.03443207e-01,  2.99182164e+00,  3.86430413e-03,\n",
              "        1.05037261e-01,  2.89115612e-01, -3.16916626e-01,  1.05625868e+00,\n",
              "       -1.39649279e+00, -3.10533604e+00,  1.01764011e-01, -7.49672917e-02,\n",
              "       -8.03271555e-01, -1.27061856e+00, -8.54046164e-01,  2.64566484e-01,\n",
              "        9.10688839e-01, -8.23059458e-01, -9.07215234e-01,  1.22059216e+00,\n",
              "        2.11418894e+00, -5.38187400e-01, -1.32164338e+00, -8.28349340e-01,\n",
              "        1.28167980e+00, -1.92911295e-01,  6.65824485e-02,  3.65563139e-02,\n",
              "       -1.85069853e+00,  1.49068024e+00, -9.57964753e-01, -9.36110163e-01,\n",
              "       -7.45634897e-01,  7.22643165e-02, -6.79260144e-01, -1.70853833e-01,\n",
              "       -1.72288643e+00, -1.15833746e+00,  5.78931788e-01,  1.37836966e+00,\n",
              "       -1.14424496e+00,  3.96188294e-01, -6.08013157e-01, -2.20959218e+00,\n",
              "        3.45270810e-01,  1.01747431e-03,  1.06563895e-01,  3.04728530e+00,\n",
              "        2.09496392e+00, -8.13481923e-01, -4.18437282e-01,  2.30993396e+00,\n",
              "        3.31858800e-02,  8.07865914e-02,  5.37064987e-02,  1.55347699e+00,\n",
              "        8.13889657e-01, -1.14636462e+00,  3.41805788e-01, -8.28022037e-01,\n",
              "        1.68897360e+00,  2.97657524e-01,  9.59437517e-01,  4.57297702e-01,\n",
              "       -2.22729515e-01, -1.48290835e+00, -6.26342867e-01,  5.86538254e-01,\n",
              "       -1.78547310e+00,  2.19020231e-01, -3.45032599e-01])"
            ]
          },
          "metadata": {},
          "execution_count": 64
        }
      ],
      "source": [
        "lr.coef_"
      ]
    },
    {
      "cell_type": "code",
      "execution_count": 65,
      "metadata": {
        "colab": {
          "base_uri": "https://localhost:8080/"
        },
        "id": "pbKuG4Y_5WrU",
        "outputId": "d9cf32dc-b38f-4183-ad05-eb18c144ea28"
      },
      "outputs": [
        {
          "output_type": "execute_result",
          "data": {
            "text/plain": [
              "95.0802729985955"
            ]
          },
          "metadata": {},
          "execution_count": 65
        }
      ],
      "source": [
        "lr.intercept_"
      ]
    },
    {
      "cell_type": "markdown",
      "metadata": {
        "id": "mwkuuBTi5crI"
      },
      "source": [
        "### Predecting the Value of Home and Test"
      ]
    },
    {
      "cell_type": "code",
      "execution_count": 66,
      "metadata": {
        "colab": {
          "base_uri": "https://localhost:8080/"
        },
        "id": "dRxteMCw5g0k",
        "outputId": "9e5c980d-7065-447c-ef31-c04831256c5a"
      },
      "outputs": [
        {
          "output_type": "execute_result",
          "data": {
            "text/plain": [
              "array([ 0.71301986,  0.0112734 ,  0.30202307,  0.65677518, -0.48064341,\n",
              "       -1.7385623 ,  2.11587407, -0.25430867,  0.51007548, -0.18373025,\n",
              "       -0.16389438, -0.1473229 , -0.13023539, -0.12812824, -0.12598816,\n",
              "       -0.12454231, -0.12953656, -0.12381344, -0.12010681, -0.11551113,\n",
              "       -0.10992018, -0.10909925, -0.10660036, -0.11234866, -0.09315135,\n",
              "       -0.08618799, -0.08923672, -0.09023078, -0.08721571, -0.09023078,\n",
              "       -0.08721571, -0.08195215, -0.08195215, -0.07633675, -0.0751646 ,\n",
              "       -0.08085949, -0.0739743 , -0.07975227, -0.07153563, -0.0751646 ,\n",
              "       -0.0677166 , -0.08085949, -0.07153563, -0.07862985, -0.0751646 ,\n",
              "       -0.07862985, -0.06504853, -0.0751646 , -0.06901264, -0.0751646 ,\n",
              "       -0.06901264, -0.07028523, -0.07276497, -0.07028523, -0.06367332,\n",
              "       -0.06226825, -0.06226825, -0.06639573, -0.06504853, -0.05935999,\n",
              "       -0.06083125, -0.06639573, -0.06639573, -0.06226825, -0.06367332,\n",
              "       -0.05935999, -0.06639573, -0.06367332, -0.06226825, -0.06226825,\n",
              "       -0.05935999, -0.05935999, -0.05935999, -0.05630391, -0.05935999,\n",
              "       -0.05785186, -0.05935999, -0.05935999, -0.06083125, -0.06083125,\n",
              "       -0.05471275, -0.06083125, -0.06226825, -0.05935999, -0.05935999,\n",
              "       -0.06226825, -0.06226825, -0.05785186, -0.06504853, -0.06226825,\n",
              "       -0.06083125, -0.05935999, -0.05307449, -0.05630391, -0.06226825,\n",
              "       -0.05471275, -0.05935999, -0.05471275, -0.05471275, -0.05138463,\n",
              "       -0.05307449, -0.05307449, -0.05471275, -0.05471275, -0.05630391,\n",
              "       -0.05630391, -0.05138463])"
            ]
          },
          "metadata": {},
          "execution_count": 66
        }
      ],
      "source": [
        "X_test[0, :]"
      ]
    },
    {
      "cell_type": "code",
      "execution_count": 67,
      "metadata": {
        "colab": {
          "base_uri": "https://localhost:8080/"
        },
        "id": "aGyiYRYO5mn_",
        "outputId": "ab7ca494-5f52-4ea8-cd9b-5a461be66629"
      },
      "outputs": [
        {
          "output_type": "execute_result",
          "data": {
            "text/plain": [
              "array([76.90661876])"
            ]
          },
          "metadata": {},
          "execution_count": 67
        }
      ],
      "source": [
        "lr.predict([X_test[0, :]])"
      ]
    },
    {
      "cell_type": "code",
      "execution_count": 68,
      "metadata": {
        "colab": {
          "base_uri": "https://localhost:8080/"
        },
        "id": "bFCYJd-F5ovU",
        "outputId": "57bb0ebd-e04b-4eee-e1da-1ea45431f1e4"
      },
      "outputs": [
        {
          "output_type": "execute_result",
          "data": {
            "text/plain": [
              "array([ 76.90661876,  15.25005377, 113.6828165 , ...,  21.30296864,\n",
              "        71.43462962, 230.0414626 ])"
            ]
          },
          "metadata": {},
          "execution_count": 68
        }
      ],
      "source": [
        "lr.predict(X_test)"
      ]
    },
    {
      "cell_type": "code",
      "execution_count": 69,
      "metadata": {
        "colab": {
          "base_uri": "https://localhost:8080/"
        },
        "id": "g7q732pK5saE",
        "outputId": "2ea3672d-d811-4ba8-b0e5-7ccaa49d2660"
      },
      "outputs": [
        {
          "output_type": "execute_result",
          "data": {
            "text/plain": [
              "2435     80.00\n",
              "3113     40.00\n",
              "426     120.00\n",
              "1124     79.00\n",
              "1161     45.00\n",
              "         ...  \n",
              "2078     28.34\n",
              "6855     84.00\n",
              "4381     32.00\n",
              "3862     63.00\n",
              "43      180.00\n",
              "Name: price, Length: 1424, dtype: float64"
            ]
          },
          "metadata": {},
          "execution_count": 69
        }
      ],
      "source": [
        "y_test"
      ]
    },
    {
      "cell_type": "code",
      "execution_count": 70,
      "metadata": {
        "colab": {
          "base_uri": "https://localhost:8080/"
        },
        "id": "N1fU9ex35u7e",
        "outputId": "328e734d-bd5c-422d-ffc9-1bbdbdbc627f"
      },
      "outputs": [
        {
          "output_type": "execute_result",
          "data": {
            "text/plain": [
              "0.790383709268225"
            ]
          },
          "metadata": {},
          "execution_count": 70
        }
      ],
      "source": [
        "linear_Regression_accuracy_score = lr.score(X_test, y_test)\n",
        "linear_Regression_accuracy_score"
      ]
    },
    {
      "cell_type": "markdown",
      "source": [
        "### Model Evaluation"
      ],
      "metadata": {
        "id": "zOWgasHPxsMX"
      }
    },
    {
      "cell_type": "code",
      "source": [
        "y_pred = lr.predict(X_test)\n",
        "y_pred"
      ],
      "metadata": {
        "colab": {
          "base_uri": "https://localhost:8080/"
        },
        "id": "wlZyajFyxu-Y",
        "outputId": "93a5d460-bb0e-420a-f562-8171ec7c15a6"
      },
      "execution_count": 71,
      "outputs": [
        {
          "output_type": "execute_result",
          "data": {
            "text/plain": [
              "array([ 76.90661876,  15.25005377, 113.6828165 , ...,  21.30296864,\n",
              "        71.43462962, 230.0414626 ])"
            ]
          },
          "metadata": {},
          "execution_count": 71
        }
      ]
    },
    {
      "cell_type": "code",
      "source": [
        "y_test"
      ],
      "metadata": {
        "colab": {
          "base_uri": "https://localhost:8080/"
        },
        "id": "7AErartRxzaZ",
        "outputId": "7d0a5596-fda9-4551-c875-d672da30a522"
      },
      "execution_count": 72,
      "outputs": [
        {
          "output_type": "execute_result",
          "data": {
            "text/plain": [
              "2435     80.00\n",
              "3113     40.00\n",
              "426     120.00\n",
              "1124     79.00\n",
              "1161     45.00\n",
              "         ...  \n",
              "2078     28.34\n",
              "6855     84.00\n",
              "4381     32.00\n",
              "3862     63.00\n",
              "43      180.00\n",
              "Name: price, Length: 1424, dtype: float64"
            ]
          },
          "metadata": {},
          "execution_count": 72
        }
      ]
    },
    {
      "cell_type": "markdown",
      "metadata": {
        "id": "p8TJQ4EA8dC5"
      },
      "source": [
        "### Mean Square Error(MSE), Root Mean Square Error(RMSE), Mean Absolute Error(MAE) for Linear Regression"
      ]
    },
    {
      "cell_type": "code",
      "execution_count": 73,
      "metadata": {
        "id": "B1At2Wh08HYD"
      },
      "outputs": [],
      "source": [
        "mse = mean_squared_error(y_test, y_pred) \n",
        "rmse = np.sqrt(mse)\n",
        "mae = mean_absolute_error(y_test,y_pred)"
      ]
    },
    {
      "cell_type": "code",
      "execution_count": 74,
      "metadata": {
        "colab": {
          "base_uri": "https://localhost:8080/"
        },
        "id": "UQzi3JjK7Gmt",
        "outputId": "59fa347c-f6e6-4718-b3e2-742bdaa62be6"
      },
      "outputs": [
        {
          "output_type": "stream",
          "name": "stdout",
          "text": [
            "MSE for Linear Regression :  4211.806905823333\n",
            "RMSE for Linear Regression : 64.8984353110561\n",
            "MAE for Linear Regression : 19.091147376118794\n",
            "Accuracy Score for Linear Regression : 0.790383709268225\n"
          ]
        }
      ],
      "source": [
        "print('MSE for Linear Regression : ', mse)\n",
        "print('RMSE for Linear Regression :', rmse)\n",
        "print(\"MAE for Linear Regression :\", mae)\n",
        "print(\"Accuracy Score for Linear Regression :\", linear_Regression_accuracy_score)"
      ]
    },
    {
      "cell_type": "markdown",
      "metadata": {
        "id": "ToC96QwB55-c"
      },
      "source": [
        "### Implimenting Ridge & Lasso Regression"
      ]
    },
    {
      "cell_type": "code",
      "execution_count": 75,
      "metadata": {
        "id": "4p3jG90sboQt"
      },
      "outputs": [],
      "source": [
        "from sklearn.linear_model import Ridge,Lasso"
      ]
    },
    {
      "cell_type": "markdown",
      "source": [
        "Ridge"
      ],
      "metadata": {
        "id": "Tc7BH-tdTRKq"
      }
    },
    {
      "cell_type": "code",
      "source": [
        "rd = Ridge()\n",
        "rd.fit(X_train,y_train)\n",
        "ridge_score = rd.score(X_test, y_test)"
      ],
      "metadata": {
        "id": "tdsAQ2NWTM4d"
      },
      "execution_count": 76,
      "outputs": []
    },
    {
      "cell_type": "code",
      "execution_count": 77,
      "metadata": {
        "colab": {
          "base_uri": "https://localhost:8080/"
        },
        "id": "WUFPEmCC44e8",
        "outputId": "2991e27d-d8f3-4eaf-e468-848db60ae0f7"
      },
      "outputs": [
        {
          "output_type": "execute_result",
          "data": {
            "text/plain": [
              "array([ 76.92207759,  15.25945686, 113.70019676, ...,  21.29069552,\n",
              "        71.42880399, 230.01781562])"
            ]
          },
          "metadata": {},
          "execution_count": 77
        }
      ],
      "source": [
        "ridge_y_pred = rd.predict(X_test)\n",
        "ridge_y_pred"
      ]
    },
    {
      "cell_type": "markdown",
      "source": [
        "Lasso"
      ],
      "metadata": {
        "id": "6mQoEtZCTXMF"
      }
    },
    {
      "cell_type": "code",
      "source": [
        "ls = Lasso()\n",
        "ls.fit(X_train,y_train)\n",
        "lasso_score = ls.score(X_test, y_test)"
      ],
      "metadata": {
        "id": "aAEkjfNcTWJe"
      },
      "execution_count": 78,
      "outputs": []
    },
    {
      "cell_type": "code",
      "source": [
        "lasso_y_pred = ls.predict(X_test)\n",
        "lasso_y_pred"
      ],
      "metadata": {
        "colab": {
          "base_uri": "https://localhost:8080/"
        },
        "id": "z9kK1APQTh2J",
        "outputId": "75f65b99-6d13-4921-af30-0578beaa1b51"
      },
      "execution_count": 79,
      "outputs": [
        {
          "output_type": "execute_result",
          "data": {
            "text/plain": [
              "array([ 81.3103182 ,  17.58271013, 132.5549385 , ...,  19.98593615,\n",
              "        65.43686586, 224.75058885])"
            ]
          },
          "metadata": {},
          "execution_count": 79
        }
      ]
    },
    {
      "cell_type": "markdown",
      "metadata": {
        "id": "tr6bq27pC0k6"
      },
      "source": [
        "### Mean Square Error(MSE), Root Mean Square Error(RMSE), Mean Absolute Error(MAE) for Ridge"
      ]
    },
    {
      "cell_type": "code",
      "execution_count": 80,
      "metadata": {
        "id": "_wH5Nben5UTz"
      },
      "outputs": [],
      "source": [
        "ridge_mse = mean_squared_error(y_test, ridge_y_pred) \n",
        "ridge_rmse = np.sqrt(mse)\n",
        "ridge_mae = mean_absolute_error(y_test,ridge_y_pred)"
      ]
    },
    {
      "cell_type": "code",
      "execution_count": 81,
      "metadata": {
        "colab": {
          "base_uri": "https://localhost:8080/"
        },
        "id": "a95zKUiF-qqL",
        "outputId": "d79dc1f2-c630-46d1-e99f-51eb3712a6cb"
      },
      "outputs": [
        {
          "output_type": "stream",
          "name": "stdout",
          "text": [
            "MSE for Ridge :  4208.091155861566\n",
            "RMSE for Ridge :  64.8984353110561\n",
            "MAE for Ridge :  19.081757190374443\n",
            "Accuracy Score for Ridge: 0.7905686374336628\n"
          ]
        }
      ],
      "source": [
        "print('MSE for Ridge : ', ridge_mse)\n",
        "print('RMSE for Ridge : ', ridge_rmse)\n",
        "print(\"MAE for Ridge : \", ridge_mae)\n",
        "print(\"Accuracy Score for Ridge:\", ridge_score)"
      ]
    },
    {
      "cell_type": "markdown",
      "source": [
        "### Mean Square Error(MSE), Root Mean Square Error(RMSE), Mean Absolute Error(MAE) for Lasso"
      ],
      "metadata": {
        "id": "3cUMuZtGVCzo"
      }
    },
    {
      "cell_type": "code",
      "source": [
        "lasso_mse = mean_squared_error(y_test, lasso_y_pred) \n",
        "lasso_rmse = np.sqrt(mse)\n",
        "lasso_mae = mean_absolute_error(y_test,lasso_y_pred)"
      ],
      "metadata": {
        "id": "cxAxBzQ9VGlO"
      },
      "execution_count": 82,
      "outputs": []
    },
    {
      "cell_type": "code",
      "source": [
        "print('MSE for Lasso : ', lasso_mse)\n",
        "print('RMSE for Lasso : ', lasso_rmse)\n",
        "print(\"MAE for Lasso : \", lasso_mae)\n",
        "print(\"Accuracy Score for Lasso:\", lasso_score)"
      ],
      "metadata": {
        "colab": {
          "base_uri": "https://localhost:8080/"
        },
        "id": "448aWZA3V-A8",
        "outputId": "a2a2c1fa-c0a5-4632-b726-d27335999352"
      },
      "execution_count": 83,
      "outputs": [
        {
          "output_type": "stream",
          "name": "stdout",
          "text": [
            "MSE for Lasso :  3945.5033362812906\n",
            "RMSE for Lasso :  64.8984353110561\n",
            "MAE for Lasso :  18.638846581863778\n",
            "Accuracy Score for Lasso: 0.8036373003525774\n"
          ]
        }
      ]
    },
    {
      "cell_type": "markdown",
      "metadata": {
        "id": "y3M2itcSDIMT"
      },
      "source": [
        "### Comparision Between Linear Regression , Ridge & Lasso"
      ]
    },
    {
      "cell_type": "code",
      "execution_count": 84,
      "metadata": {
        "colab": {
          "base_uri": "https://localhost:8080/"
        },
        "id": "sujWhwo4DR0m",
        "outputId": "64759cd7-61a6-4213-bba5-24b856a95f9f"
      },
      "outputs": [
        {
          "output_type": "stream",
          "name": "stdout",
          "text": [
            "Accuracy Score for Linear Regression : 0.790383709268225\n",
            "Accuracy Score for Ridge: 0.7905686374336628\n",
            "Accuracy Score for Lasso: 0.8036373003525774\n"
          ]
        }
      ],
      "source": [
        "print(\"Accuracy Score for Linear Regression :\", linear_Regression_accuracy_score)\n",
        "print(\"Accuracy Score for Ridge:\", ridge_score)\n",
        "print(\"Accuracy Score for Lasso:\", lasso_score)"
      ]
    },
    {
      "cell_type": "code",
      "source": [
        "print(\"Accuracy Score for Lasso:\", lasso_score)"
      ],
      "metadata": {
        "id": "N-KkpyD3z7XZ",
        "outputId": "0f525371-1992-446c-b63a-53cbb04a7633",
        "colab": {
          "base_uri": "https://localhost:8080/"
        }
      },
      "execution_count": 85,
      "outputs": [
        {
          "output_type": "stream",
          "name": "stdout",
          "text": [
            "Accuracy Score for Lasso: 0.8036373003525774\n"
          ]
        }
      ]
    }
  ],
  "metadata": {
    "colab": {
      "provenance": [],
      "include_colab_link": true
    },
    "kernelspec": {
      "display_name": "Python 3",
      "name": "python3"
    },
    "language_info": {
      "name": "python"
    }
  },
  "nbformat": 4,
  "nbformat_minor": 0
}